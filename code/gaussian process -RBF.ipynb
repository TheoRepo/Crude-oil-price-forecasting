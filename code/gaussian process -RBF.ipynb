{
 "cells": [
  {
   "cell_type": "code",
   "execution_count": 10,
   "metadata": {},
   "outputs": [],
   "source": [
    "import numpy as np\n",
    "import pandas as pd\n",
    "import seaborn as sns\n",
    "import matplotlib.pyplot as plt\n",
    "import statsmodels.api as sm\n",
    "from sklearn.ensemble import RandomForestRegressor\n",
    "from sklearn import preprocessing\n",
    "from sklearn.preprocessing import MinMaxScaler\n",
    "from sklearn.metrics import r2_score\n",
    "from sklearn.svm import SVR\n",
    "from sklearn.gaussian_process.kernels import *\n",
    "from sklearn.gaussian_process import GaussianProcessRegressor\n",
    "data = pd.read_csv('/Users/chengnanxu/Desktop/Gaussian Process/Gaussian Process_cross validation/project_dataset.csv')"
   ]
  },
  {
   "cell_type": "code",
   "execution_count": 11,
   "metadata": {
    "scrolled": true
   },
   "outputs": [],
   "source": [
    "define = {\n",
    "    '89':1,\n",
    "    '90':2,\n",
    "    '91':3,\n",
    "    '92':4,\n",
    "    '93':5,\n",
    "    '94':6,\n",
    "    '95':7,\n",
    "    '96':8,\n",
    "    '97':9,\n",
    "    '98':10,\n",
    "    '99':11,\n",
    "    '00':12,\n",
    "    '01':13,\n",
    "    '02':14,\n",
    "    '03':15,\n",
    "    '04':16,\n",
    "    '05':17,\n",
    "    '06':18,\n",
    "    '07':19,\n",
    "    '08':20,\n",
    "    '09':21,\n",
    "    '10':22,\n",
    "    '11':23,\n",
    "    '12':24,\n",
    "    '13':25,\n",
    "    '14':26,\n",
    "    '15':27,\n",
    "    '16':28,\n",
    "    '17':29,\n",
    "    '18':30,\n",
    "    '19':31,\n",
    "}\n",
    "data['year_no'] = data['Years'].apply(lambda x:str(x)[2:4])\n",
    "data['year_level'] = data['year_no'].map(define)\n",
    "\n",
    "cols = ['year_level','Month Level','Production','Consumption','Previous Month Prices','Events']"
   ]
  },
  {
   "cell_type": "code",
   "execution_count": 12,
   "metadata": {},
   "outputs": [],
   "source": [
    "x_train = data.loc[0:270,cols]\n",
    "y_train = data.loc[0:270,'Prices']\n",
    "\n",
    "x_test = data.loc[271:,cols]\n",
    "y_test = data.loc[271:,'Prices']"
   ]
  },
  {
   "cell_type": "code",
   "execution_count": 13,
   "metadata": {},
   "outputs": [
    {
     "name": "stdout",
     "output_type": "stream",
     "text": [
      "MinMaxScaler(copy=True, feature_range=(0, 1))\n"
     ]
    }
   ],
   "source": [
    "scaler = MinMaxScaler()\n",
    "print(scaler.fit(x_train))\n",
    "x_train=scaler.transform(x_train)\n",
    "x_test=scaler.transform(x_test)"
   ]
  },
  {
   "cell_type": "code",
   "execution_count": 14,
   "metadata": {},
   "outputs": [
    {
     "name": "stdout",
     "output_type": "stream",
     "text": [
      "GaussianProcessRegressor(alpha=1e-10, copy_X_train=True,\n",
      "             kernel=0.447**2 * DotProduct(sigma_0=2) ** 2,\n",
      "             n_restarts_optimizer=0, normalize_y=False,\n",
      "             optimizer='fmin_l_bfgs_b', random_state=None)\n"
     ]
    },
    {
     "name": "stderr",
     "output_type": "stream",
     "text": [
      "/anaconda3/lib/python3.6/site-packages/sklearn/gaussian_process/gpr.py:457: UserWarning: fmin_l_bfgs_b terminated abnormally with the  state: {'grad': array([-1.22683392e+08,  1.17125939e+09]), 'task': b'ABNORMAL_TERMINATION_IN_LNSRCH', 'funcalls': 21, 'nit': 0, 'warnflag': 2}\n",
      "  \" state: %s\" % convergence_dict)\n"
     ]
    }
   ],
   "source": [
    "kernel= ConstantKernel(0.2, (0.01, 10.0)) * (DotProduct(sigma_0=2.0, sigma_0_bounds=(0.1, 10.0)) ** 2)\n",
    "gpr=GaussianProcessRegressor(kernel=kernel)\n",
    "gpr.fit(x_train,y_train)\n",
    "y_predict,y_std=gpr.predict(x_test, return_std=True)\n",
    "print(gpr)\n"
   ]
  },
  {
   "cell_type": "code",
   "execution_count": 15,
   "metadata": {},
   "outputs": [
    {
     "data": {
      "text/plain": [
       "Text(0,0.5,'Price')"
      ]
     },
     "execution_count": 15,
     "metadata": {},
     "output_type": "execute_result"
    },
    {
     "data": {
      "image/png": "[encoded data removed]",
      "text/plain": [
       "<Figure size 432x288 with 1 Axes>"
      ]
     },
     "metadata": {},
     "output_type": "display_data"
    }
   ],
   "source": [
    "plt.figure()\n",
    "plt.title('ConstantKernel&DotProduct')\n",
    "plt.fill_between(np.arange(len(x_test)), y_predict - y_std, y_predict + y_std, alpha=0.2, color='pink',\n",
    "               )\n",
    "plt.plot(np.arange(len(x_test)), y_predict, color= 'red', label= 'RBF model')\n",
    "plt.scatter(np.arange(len(x_test)), y_test, color= 'black', label= 'Data')\n",
    "plt.xlabel('test data')\n",
    "plt.ylabel('Price')"
   ]
  },
  {
   "cell_type": "code",
   "execution_count": 165,
   "metadata": {},
   "outputs": [
    {
     "name": "stdout",
     "output_type": "stream",
     "text": [
      "99.529541015625 99.85\n",
      "98.790283203125 105.41\n",
      "102.975341796875 104.23\n",
      "102.039794921875 107.07\n",
      "104.22802734375 112.69\n",
      "108.48046875 117.79\n",
      "114.98193359375 113.67\n",
      "111.711669921875 104.09\n",
      "103.88330078125 90.73\n",
      "92.436279296875 96.75\n",
      "97.670654296875 105.27\n",
      "104.865234375 106.28\n",
      "103.62158203125 103.41\n",
      "101.401123046875 101.17\n",
      "99.648193359375 101.19\n",
      "102.74560546875 105.1\n",
      "105.816162109375 107.64\n",
      "107.78515625 102.52\n",
      "103.480712890625 98.85\n",
      "100.354736328125 99.37\n",
      "100.804931640625 99.74\n",
      "101.118408203125 105.26\n",
      "105.784912109375 108.16\n",
      "108.19287109375 108.76\n",
      "108.642578125 105.43\n",
      "106.07470703125 102.63\n",
      "103.883056640625 105.48\n",
      "106.3134765625 102.1\n",
      "103.56689453125 104.83\n",
      "105.78955078125 104.04\n",
      "107.013671875 104.87\n",
      "107.736083984375 105.71\n",
      "108.4609375 108.37\n",
      "110.746826171875 105.23\n",
      "108.044921875 100.05\n",
      "103.51513671875 95.85\n",
      "98.380126953125 86.08\n",
      "90.007568359375 76.99\n",
      "81.922119140625 60.7\n",
      "67.103271484375 47.11\n",
      "53.4521484375 54.79\n",
      "61.24609375 52.83\n",
      "59.325927734375 57.54\n",
      "64.3046875 62.51\n",
      "69.479736328125 61.31\n",
      "68.2353515625 54.34\n",
      "60.92724609375 45.69\n",
      "51.630859375 46.28\n",
      "52.59814453125 46.96\n",
      "53.296875 43.11\n",
      "43.002197265625 36.57\n",
      "38.78369140625 29.78\n",
      "30.71484375 31.03\n",
      "32.210205078125 37.34\n",
      "38.828125 40.75\n",
      "43.00634765625 45.94\n",
      "51.5810546875 47.69\n",
      "53.4912109375 44.13\n",
      "49.59375 44.88\n",
      "50.41650390625 45.04\n",
      "53.10009765625 49.29\n",
      "57.490478515625 45.26\n",
      "48.882080078125 52.62\n",
      "46.8037109375 53.59\n",
      "52.4326171875 54.35\n",
      "59.03564453125 50.9\n",
      "55.84033203125 52.16\n",
      "61.6708984375 49.89\n",
      "65.1962890625 46.17\n",
      "66.611328125 47.66\n",
      "64.7763671875 49.94\n",
      "66.505859375 52.95\n",
      "68.82177734375 54.92\n",
      "74.11767578125 59.93\n",
      "76.154296875 61.19\n",
      "75.31787109375 66.23\n",
      "81.6865234375 63.46\n",
      "79.10888671875 64.17\n",
      "86.63232421875 68.79\n",
      "83.501953125 73.43\n",
      "92.40380859375 71.98\n",
      "93.6328125 72.67\n",
      "95.9853515625 71.08\n",
      "93.4130859375 75.36\n",
      "92.2705078125 76.73\n",
      "102.3291015625 62.32\n",
      "85.5009765625 53.96\n",
      "68.0517578125 56.58\n",
      "72.95556640625 61.13\n",
      ">>> The model\"s mse is 126.010715\n",
      ">>> The model\"s rmse is 11.225449\n",
      ">>> The model\"s r2 is 0.813583\n"
     ]
    }
   ],
   "source": [
    "mse=[]\n",
    "for a,b in zip(y_predict,y_test):\n",
    "    print(a,b)\n",
    "    mse.append(np.square(y_predict-y_test))\n",
    "\n",
    "print('>>> The model\"s mse is %5f'%(np.mean(mse)))\n",
    "\n",
    "rmse=np.sqrt(np.mean(mse))\n",
    "print('>>> The model\"s rmse is %5f'%(rmse))\n",
    "\n",
    "r2=r2_score(y_test, y_predict)\n",
    "print('>>> The model\"s r2 is %5f'%(r2))"
   ]
  },
  {
   "cell_type": "code",
   "execution_count": null,
   "metadata": {},
   "outputs": [],
   "source": []
  }
 ],
 "metadata": {
  "kernelspec": {
   "display_name": "Python 3",
   "language": "python",
   "name": "python3"
  },
  "language_info": {
   "codemirror_mode": {
    "name": "ipython",
    "version": 3
   },
   "file_extension": ".py",
   "mimetype": "text/x-python",
   "name": "python",
   "nbconvert_exporter": "python",
   "pygments_lexer": "ipython3",
   "version": "3.7.6"
  }
 },
 "nbformat": 4,
 "nbformat_minor": 2
}
