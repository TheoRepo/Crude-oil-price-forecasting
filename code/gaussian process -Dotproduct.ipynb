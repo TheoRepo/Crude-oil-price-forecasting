{
 "cells": [
  {
   "cell_type": "code",
   "execution_count": 5,
   "metadata": {},
   "outputs": [],
   "source": [
    "import numpy as np\n",
    "import pandas as pd\n",
    "import seaborn as sns\n",
    "import matplotlib.pyplot as plt\n",
    "import statsmodels.api as sm\n",
    "from sklearn.ensemble import RandomForestRegressor\n",
    "from sklearn import preprocessing\n",
    "from sklearn.preprocessing import MinMaxScaler\n",
    "from sklearn.metrics import r2_score\n",
    "from sklearn.svm import SVR\n",
    "from sklearn.gaussian_process.kernels import DotProduct\n",
    "from sklearn.gaussian_process import GaussianProcessRegressor\n",
    "data = pd.read_csv('/Users/chengnanxu/Desktop/Gaussian Process/Gaussian Process_cross validation/project_dataset.csv')"
   ]
  },
  {
   "cell_type": "code",
   "execution_count": 6,
   "metadata": {
    "scrolled": true
   },
   "outputs": [],
   "source": [
    "define = {\n",
    "    '89':1,\n",
    "    '90':2,\n",
    "    '91':3,\n",
    "    '92':4,\n",
    "    '93':5,\n",
    "    '94':6,\n",
    "    '95':7,\n",
    "    '96':8,\n",
    "    '97':9,\n",
    "    '98':10,\n",
    "    '99':11,\n",
    "    '00':12,\n",
    "    '01':13,\n",
    "    '02':14,\n",
    "    '03':15,\n",
    "    '04':16,\n",
    "    '05':17,\n",
    "    '06':18,\n",
    "    '07':19,\n",
    "    '08':20,\n",
    "    '09':21,\n",
    "    '10':22,\n",
    "    '11':23,\n",
    "    '12':24,\n",
    "    '13':25,\n",
    "    '14':26,\n",
    "    '15':27,\n",
    "    '16':28,\n",
    "    '17':29,\n",
    "    '18':30,\n",
    "    '19':31,\n",
    "}\n",
    "data['year_no'] = data['Years'].apply(lambda x:str(x)[2:4])\n",
    "data['year_level'] = data['year_no'].map(define)\n",
    "\n",
    "cols = ['year_level','Month Level','Production','Consumption','Previous Month Prices','Events']"
   ]
  },
  {
   "cell_type": "code",
   "execution_count": 7,
   "metadata": {},
   "outputs": [],
   "source": [
    "x_train = data.loc[0:270,cols]\n",
    "y_train = data.loc[0:270,'Prices']\n",
    "\n",
    "x_test = data.loc[271:,cols]\n",
    "y_test = data.loc[271:,'Prices']"
   ]
  },
  {
   "cell_type": "code",
   "execution_count": 8,
   "metadata": {},
   "outputs": [
    {
     "name": "stdout",
     "output_type": "stream",
     "text": [
      "MinMaxScaler(copy=True, feature_range=(0, 1))\n"
     ]
    }
   ],
   "source": [
    "scaler = MinMaxScaler()\n",
    "print(scaler.fit(x_train))\n",
    "x_train=scaler.transform(x_train)\n",
    "x_test=scaler.transform(x_test)"
   ]
  },
  {
   "cell_type": "code",
   "execution_count": 9,
   "metadata": {},
   "outputs": [
    {
     "name": "stdout",
     "output_type": "stream",
     "text": [
      "GaussianProcessRegressor(alpha=1e-10, copy_X_train=True,\n",
      "             kernel=0.316**2 * DotProduct(sigma_0=1),\n",
      "             n_restarts_optimizer=0, normalize_y=False,\n",
      "             optimizer='fmin_l_bfgs_b', random_state=None)\n"
     ]
    },
    {
     "name": "stderr",
     "output_type": "stream",
     "text": [
      "/anaconda3/lib/python3.6/site-packages/sklearn/gaussian_process/gpr.py:335: UserWarning: Predicted variances smaller than 0. Setting those variances to 0.\n",
      "  warnings.warn(\"Predicted variances smaller than 0. \"\n"
     ]
    }
   ],
   "source": [
    "me= 0.316**2 *DotProduct(sigma_0=1)\n",
    "gpr=GaussianProcessRegressor(kernel= me)\n",
    "gpr.fit(x_train,y_train)\n",
    "y_predict,y_std=gpr.predict(x_test, return_std=True)\n",
    "print(gpr)\n"
   ]
  },
  {
   "cell_type": "markdown",
   "metadata": {},
   "source": [
    "plt.figure()\n",
    "plt.title('Dotproduct Kernel')\n",
    "#rng =  np.random.RandomState(0)\n",
    "#y_train += rng.rand(x_train.shape[0])  # add noise\n",
    "plt.fill_between(np.arange(len(x_test)), y_predict - y_std, y_predict + y_std, color='pink',\n",
    "                 )\n",
    "plt.plot(np.arange(len(x_test)), y_predict, color= 'red', label= 'RBF model')\n",
    "plt.scatter(np.arange(len(x_test)), y_test, color= 'black', label= 'Data')"
   ]
  },
  {
   "cell_type": "code",
   "execution_count": 10,
   "metadata": {},
   "outputs": [
    {
     "data": {
      "text/plain": [
       "Text(0,0.5,'Price')"
      ]
     },
     "execution_count": 10,
     "metadata": {},
     "output_type": "execute_result"
    },
    {
     "data": {
      "image/png": "[encoded data removed]",
      "text/plain": [
       "<Figure size 432x288 with 1 Axes>"
      ]
     },
     "metadata": {},
     "output_type": "display_data"
    }
   ],
   "source": [
    "plt.figure()\n",
    "plt.title('DotProduct')\n",
    "#rng =  np.random.RandomState(0)\n",
    "#y_train += rng.rand(x_train.shape[0])  # add noise\n",
    "plt.fill_between(np.arange(len(x_test)), y_predict - 5000*y_std, y_predict + 5000*y_std, color='pink',\n",
    "                 )\n",
    "plt.plot(np.arange(len(x_test)), y_predict, color= 'red', label= 'o')\n",
    "plt.scatter(np.arange(len(x_test)), y_test, color= 'black', label= 'Data')\n",
    "plt.xlabel('test data')\n",
    "plt.ylabel('Price')"
   ]
  },
  {
   "cell_type": "code",
   "execution_count": 22,
   "metadata": {},
   "outputs": [
    {
     "name": "stdout",
     "output_type": "stream",
     "text": [
      "100.96807098388672 99.85\n",
      "100.04317474365234 105.41\n",
      "105.34442138671875 104.23\n",
      "103.11553955078125 107.07\n",
      "105.82337188720703 112.69\n",
      "111.18175506591797 117.79\n",
      "116.73681640625 113.67\n",
      "112.80853271484375 104.09\n",
      "103.67434692382812 90.73\n",
      "90.93611145019531 96.75\n",
      "96.67594909667969 105.27\n",
      "104.79945373535156 106.28\n",
      "105.07012176513672 103.41\n",
      "102.33372497558594 101.17\n",
      "100.19798278808594 101.19\n",
      "101.52787017822266 105.1\n",
      "105.2558364868164 107.64\n",
      "107.67764282226562 102.52\n",
      "103.48822021484375 98.85\n",
      "99.98910522460938 99.37\n",
      "100.48480224609375 99.74\n",
      "100.83766174316406 105.26\n",
      "106.10073852539062 108.16\n",
      "108.86575317382812 108.76\n",
      "108.74555969238281 105.43\n",
      "105.57050323486328 102.63\n",
      "102.90084075927734 105.48\n",
      "104.49981689453125 102.1\n",
      "101.27708435058594 104.83\n",
      "103.88003540039062 104.04\n",
      "103.81916809082031 104.87\n",
      "104.61061096191406 105.71\n",
      "105.41146850585938 108.37\n",
      "107.94764709472656 105.23\n",
      "104.95376586914062 100.05\n",
      "100.014892578125 95.85\n",
      "95.31792449951172 86.08\n",
      "86.00261688232422 76.99\n",
      "77.33570861816406 60.7\n",
      "61.23457336425781 47.11\n",
      "48.27708435058594 54.79\n",
      "55.59967803955078 52.83\n",
      "54.4232177734375 57.54\n",
      "58.91395568847656 62.51\n",
      "63.65269470214844 61.31\n",
      "62.50852966308594 54.34\n",
      "55.86297607421875 45.69\n",
      "47.615478515625 46.28\n",
      "47.48567199707031 46.96\n",
      "48.13401794433594 43.11\n",
      "44.43719482421875 36.57\n",
      "39.47132873535156 29.78\n",
      "32.997283935546875 31.03\n",
      "34.18910217285156 37.34\n",
      "40.89778137207031 40.75\n",
      "44.14910888671875 45.94\n",
      "49.12358093261719 47.69\n",
      "50.792144775390625 44.13\n",
      "47.39784240722656 44.88\n",
      "48.11293029785156 45.04\n",
      "47.57313537597656 49.29\n",
      "51.62535095214844 45.26\n",
      "47.7568359375 52.62\n",
      "47.98748779296875 53.59\n",
      "50.78022766113281 54.35\n",
      "54.445068359375 50.9\n",
      "49.18714904785156 52.16\n",
      "52.5810546875 49.89\n",
      "51.915252685546875 46.17\n",
      "45.34123229980469 47.66\n",
      "47.71153259277344 49.94\n",
      "50.86260986328125 52.95\n",
      "50.61920166015625 54.92\n",
      "55.22650146484375 59.93\n",
      "58.65003967285156 61.19\n",
      "58.146636962890625 66.23\n",
      "64.57341003417969 63.46\n",
      "62.0570068359375 64.17\n",
      "61.98699951171875 68.79\n",
      "66.92083740234375 73.43\n",
      "72.74313354492188 71.98\n",
      "70.44776916503906 72.67\n",
      "71.19308471679688 71.08\n",
      "67.860595703125 75.36\n",
      "71.00569152832031 76.73\n",
      "73.10066223144531 62.32\n",
      "59.71403503417969 53.96\n",
      "51.47206115722656 56.58\n",
      "56.73876953125 61.13\n",
      ">>> The model\"s mse is 28.525355\n",
      ">>> The model\"s rmse is 5.340913\n",
      ">>> The model\"s r2 is 0.957800\n"
     ]
    }
   ],
   "source": [
    "mse=[]\n",
    "for a,b in zip(y_predict,y_test):\n",
    "    print(a,b)\n",
    "    mse.append(np.square(y_predict-y_test))\n",
    "\n",
    "print('>>> The model\"s mse is %5f'%(np.mean(mse)))\n",
    "\n",
    "rmse=np.sqrt(np.mean(mse))\n",
    "print('>>> The model\"s rmse is %5f'%(rmse))\n",
    "\n",
    "r2=r2_score(y_test, y_predict)\n",
    "print('>>> The model\"s r2 is %5f'%(r2))"
   ]
  },
  {
   "cell_type": "code",
   "execution_count": null,
   "metadata": {},
   "outputs": [],
   "source": []
  }
 ],
 "metadata": {
  "kernelspec": {
   "display_name": "Python 3",
   "language": "python",
   "name": "python3"
  },
  "language_info": {
   "codemirror_mode": {
    "name": "ipython",
    "version": 3
   },
   "file_extension": ".py",
   "mimetype": "text/x-python",
   "name": "python",
   "nbconvert_exporter": "python",
   "pygments_lexer": "ipython3",
   "version": "3.7.6"
  }
 },
 "nbformat": 4,
 "nbformat_minor": 2
}
