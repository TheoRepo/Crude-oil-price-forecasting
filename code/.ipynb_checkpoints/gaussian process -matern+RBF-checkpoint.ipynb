{
 "cells": [
  {
   "cell_type": "code",
   "execution_count": 1,
   "metadata": {},
   "outputs": [],
   "source": [
    "import numpy as np\n",
    "import pandas as pd\n",
    "import seaborn as sns\n",
    "import matplotlib.pyplot as plt\n",
    "import statsmodels.api as sm\n",
    "from sklearn.ensemble import RandomForestRegressor\n",
    "from sklearn import preprocessing\n",
    "from sklearn.preprocessing import MinMaxScaler\n",
    "from sklearn.metrics import r2_score\n",
    "from sklearn.svm import SVR\n",
    "from sklearn.gaussian_process.kernels import (Matern, RBF)\n",
    "from sklearn.gaussian_process import GaussianProcessRegressor\n",
    "data = pd.read_csv('/Users/chengnanxu/Desktop/Gaussian Process/Gaussian Process_cross validation/project_dataset.csv')"
   ]
  },
  {
   "cell_type": "code",
   "execution_count": 2,
   "metadata": {
    "scrolled": true
   },
   "outputs": [],
   "source": [
    "define = {\n",
    "    '89':1,\n",
    "    '90':2,\n",
    "    '91':3,\n",
    "    '92':4,\n",
    "    '93':5,\n",
    "    '94':6,\n",
    "    '95':7,\n",
    "    '96':8,\n",
    "    '97':9,\n",
    "    '98':10,\n",
    "    '99':11,\n",
    "    '00':12,\n",
    "    '01':13,\n",
    "    '02':14,\n",
    "    '03':15,\n",
    "    '04':16,\n",
    "    '05':17,\n",
    "    '06':18,\n",
    "    '07':19,\n",
    "    '08':20,\n",
    "    '09':21,\n",
    "    '10':22,\n",
    "    '11':23,\n",
    "    '12':24,\n",
    "    '13':25,\n",
    "    '14':26,\n",
    "    '15':27,\n",
    "    '16':28,\n",
    "    '17':29,\n",
    "    '18':30,\n",
    "    '19':31,\n",
    "}\n",
    "data['year_no'] = data['Years'].apply(lambda x:str(x)[2:4])\n",
    "data['year_level'] = data['year_no'].map(define)\n",
    "\n",
    "cols = ['year_level','Month Level','Production','Consumption','Previous Month Prices','Events']"
   ]
  },
  {
   "cell_type": "code",
   "execution_count": 3,
   "metadata": {},
   "outputs": [],
   "source": [
    "x_train = data.loc[0:270,cols]\n",
    "y_train = data.loc[0:270,'Prices']\n",
    "\n",
    "x_test = data.loc[271:,cols]\n",
    "y_test = data.loc[271:,'Prices']"
   ]
  },
  {
   "cell_type": "code",
   "execution_count": 4,
   "metadata": {},
   "outputs": [
    {
     "name": "stdout",
     "output_type": "stream",
     "text": [
      "MinMaxScaler(copy=True, feature_range=(0, 1))\n"
     ]
    }
   ],
   "source": [
    "scaler = MinMaxScaler()\n",
    "print(scaler.fit(x_train))\n",
    "x_train=scaler.transform(x_train)\n",
    "x_test=scaler.transform(x_test)"
   ]
  },
  {
   "cell_type": "code",
   "execution_count": 5,
   "metadata": {},
   "outputs": [
    {
     "name": "stdout",
     "output_type": "stream",
     "text": [
      "GaussianProcessRegressor(alpha=1e-10, copy_X_train=True,\n",
      "             kernel=1**2 * Matern(length_scale=1e+03, nu=0.08) + 3.16**2 * RBF(length_scale=1),\n",
      "             n_restarts_optimizer=0, normalize_y=False,\n",
      "             optimizer='fmin_l_bfgs_b', random_state=None)\n"
     ]
    }
   ],
   "source": [
    "Mat= 1 * Matern(length_scale=1000, length_scale_bounds=(1e-3, 100.0),nu=0.08)+(10*RBF(length_scale=1.0, length_scale_bounds=(1e-1, 10.0)))\n",
    "gpr=GaussianProcessRegressor(kernel= Mat)\n",
    "gpr.fit(x_train,y_train)\n",
    "y_predict,y_std=gpr.predict(x_test, return_std=True)\n",
    "\n",
    "print(gpr)"
   ]
  },
  {
   "cell_type": "code",
   "execution_count": 6,
   "metadata": {},
   "outputs": [
    {
     "data": {
      "text/plain": [
       "Text(0,0.5,'Price')"
      ]
     },
     "execution_count": 6,
     "metadata": {},
     "output_type": "execute_result"
    },
    {
     "data": {
      "image/png": "[encoded data removed]",
      "text/plain": [
       "<Figure size 432x288 with 1 Axes>"
      ]
     },
     "metadata": {},
     "output_type": "display_data"
    }
   ],
   "source": [
    "plt.figure()\n",
    "plt.title('Matern Kernel&RBF')\n",
    "plt.fill_between(np.arange(len(x_test)), y_predict - y_std, y_predict + y_std, color='pink',\n",
    "                 )\n",
    "plt.plot(np.arange(len(x_test)), y_predict, color= 'red', label= 'Data')\n",
    "plt.scatter(np.arange(len(x_test)), y_test, color= 'black', label= 'Data')\n",
    "plt.xlabel('test data')\n",
    "plt.ylabel('Price')"
   ]
  },
  {
   "cell_type": "code",
   "execution_count": 133,
   "metadata": {},
   "outputs": [
    {
     "name": "stdout",
     "output_type": "stream",
     "text": [
      "100.56573601248965 99.85\n",
      "99.7388024047832 105.41\n",
      "104.47801278796396 104.23\n",
      "103.37457289943995 107.07\n",
      "105.80417868652148 112.69\n",
      "110.60497793127433 117.79\n",
      "113.92345429629495 113.67\n",
      "110.41733102867147 104.09\n",
      "102.25517981311714 90.73\n",
      "90.71925442767679 96.75\n",
      "95.93290535063716 105.27\n",
      "103.26433967029152 106.28\n",
      "105.12858479136776 103.41\n",
      "102.6726014224987 101.17\n",
      "100.75391362639493 101.19\n",
      "102.9917386991583 105.1\n",
      "106.34579706724617 107.64\n",
      "108.52178451443615 102.52\n",
      "103.10577427058888 98.85\n",
      "99.95956542206113 99.37\n",
      "100.4056990089448 99.74\n",
      "100.72307599578926 105.26\n",
      "105.45056151044264 108.16\n",
      "107.92839465814177 108.76\n",
      "109.48057646030793 105.43\n",
      "106.6286296294129 102.63\n",
      "104.2276266898989 105.48\n",
      "106.66579319124867 102.1\n",
      "103.76338779523212 104.83\n",
      "106.10794768348569 104.04\n",
      "104.45626443339279 104.87\n",
      "105.16549181437586 105.71\n",
      "105.88310812647978 108.37\n",
      "108.15448036068119 105.23\n",
      "105.47306112489605 100.05\n",
      "101.04486099685892 95.85\n",
      "98.38599784280814 86.08\n",
      "89.95273195407935 76.99\n",
      "82.07737657053804 60.7\n",
      "68.84627793735126 47.11\n",
      "57.002414470072836 54.79\n",
      "63.69912356098939 52.83\n",
      "61.41703852565843 57.54\n",
      "65.47921929523 62.51\n",
      "69.76119287402253 61.31\n",
      "68.72772083996097 54.34\n",
      "62.719810720853275 45.69\n",
      "55.250855911494 46.28\n",
      "56.27821109732031 46.96\n",
      "56.871540591761004 43.11\n",
      "51.84378233124153 36.57\n",
      "48.32183883085963 29.78\n",
      "42.19646169857879 31.03\n",
      "43.3238885103201 37.34\n",
      "51.03608329661074 40.75\n",
      "54.093590979638975 45.94\n",
      "57.733129065294634 47.69\n",
      "59.2469380300754 44.13\n",
      "56.1668367345701 44.88\n",
      "56.81592435804487 45.04\n",
      "57.580442758553545 49.29\n",
      "61.288132890316774 45.26\n",
      "56.164401414847816 52.62\n",
      "57.17323265763116 53.59\n",
      "60.38822385332605 54.35\n",
      "64.41884776231018 50.9\n",
      "59.91519107401837 52.16\n",
      "63.901346782484325 49.89\n",
      "63.08122915492277 46.17\n",
      "56.653571453280165 47.66\n",
      "58.741037636384135 49.94\n",
      "61.87809382498381 52.95\n",
      "62.63890356857155 54.92\n",
      "67.90154070523567 59.93\n",
      "70.29725063609658 61.19\n",
      "70.21516565761704 66.23\n",
      "76.65922695670452 63.46\n",
      "74.44892301945947 64.17\n",
      "72.54408896235691 68.79\n",
      "78.27028262136446 73.43\n",
      "84.30642179313872 71.98\n",
      "82.27281071906327 72.67\n",
      "83.12134751367557 71.08\n",
      "79.55339256825391 75.36\n",
      "81.9345204217534 76.73\n",
      "85.20243635639781 62.32\n",
      "72.96279257279821 53.96\n",
      "65.4551327888621 56.58\n",
      "71.23932431134745 61.13\n",
      ">>> The model\"s mse is 88.693894\n",
      ">>> The model\"s rmse is 9.417744\n",
      ">>> The model\"s r2 is 0.868789\n"
     ]
    }
   ],
   "source": [
    "mse=[]\n",
    "for a,b in zip(y_predict,y_test):\n",
    "    print(a,b)\n",
    "    mse.append(np.square(y_predict-y_test))\n",
    "\n",
    "print('>>> The model\"s mse is %5f'%(np.mean(mse)))\n",
    "\n",
    "rmse=np.sqrt(np.mean(mse))\n",
    "print('>>> The model\"s rmse is %5f'%(rmse))\n",
    "\n",
    "r2=r2_score(y_test, y_predict)\n",
    "print('>>> The model\"s r2 is %5f'%(r2))"
   ]
  },
  {
   "cell_type": "code",
   "execution_count": null,
   "metadata": {},
   "outputs": [],
   "source": []
  },
  {
   "cell_type": "code",
   "execution_count": null,
   "metadata": {},
   "outputs": [],
   "source": []
  }
 ],
 "metadata": {
  "kernelspec": {
   "display_name": "Python 3",
   "language": "python",
   "name": "python3"
  },
  "language_info": {
   "codemirror_mode": {
    "name": "ipython",
    "version": 3
   },
   "file_extension": ".py",
   "mimetype": "text/x-python",
   "name": "python",
   "nbconvert_exporter": "python",
   "pygments_lexer": "ipython3",
   "version": "3.7.6"
  }
 },
 "nbformat": 4,
 "nbformat_minor": 2
}
